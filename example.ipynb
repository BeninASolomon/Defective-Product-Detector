{
 "cells": [
  {
   "cell_type": "code",
   "execution_count": 1,
   "id": "d6d11b7d-3813-4390-a5e0-4be15fe2f67a",
   "metadata": {},
   "outputs": [
    {
     "name": "stderr",
     "output_type": "stream",
     "text": [
      "WARNING:absl:Compiled the loaded model, but the compiled metrics have yet to be built. `model.compile_metrics` will be empty until you train or evaluate the model.\n"
     ]
    }
   ],
   "source": [
    "from utils import DefectDetector\n",
    "import tensorflow as tf\n",
    "import os\n",
    "import gdown\n",
    "#load the model from google drive because it big to upload in git\n",
    "model_path = \"defect_model.h5\"\n",
    "if not os.path.exists(model_path):\n",
    "    url = \"https://drive.google.com/uc?export=download&id=14rJlQLPYgbjiD3dqxWVxi4xjLsf4zQBl\"\n",
    "    gdown.download(url, model_path, quiet=False)\n",
    "\n",
    "from utils import DefectDetector\n",
    "model = DefectDetector(model_path)\n",
    "result = model.predict(\"def.jpeg\")\n",
    "print(result)"
   ]
  },
  {
   "cell_type": "code",
   "execution_count": null,
   "id": "b5368921-0428-46c8-8b29-b6502e03637d",
   "metadata": {},
   "outputs": [],
   "source": []
  }
 ],
 "metadata": {
  "kernelspec": {
   "display_name": "Python 3 (ipykernel)",
   "language": "python",
   "name": "python3"
  },
  "language_info": {
   "codemirror_mode": {
    "name": "ipython",
    "version": 3
   },
   "file_extension": ".py",
   "mimetype": "text/x-python",
   "name": "python",
   "nbconvert_exporter": "python",
   "pygments_lexer": "ipython3",
   "version": "3.12.4"
  }
 },
 "nbformat": 4,
 "nbformat_minor": 5
}
